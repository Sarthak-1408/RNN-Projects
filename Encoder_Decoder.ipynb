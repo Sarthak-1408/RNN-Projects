{
  "nbformat": 4,
  "nbformat_minor": 0,
  "metadata": {
    "colab": {
      "name": "Encoder_Decoder.ipynb",
      "provenance": [],
      "collapsed_sections": []
    },
    "kernelspec": {
      "name": "python3",
      "display_name": "Python 3"
    },
    "language_info": {
      "name": "python"
    },
    "accelerator": "GPU"
  },
  "cells": [
    {
      "cell_type": "markdown",
      "metadata": {
        "id": "89ZsJ_hwYDLO"
      },
      "source": [
        "# Sequence to Sequence model (Encoder and Decoder Technique)\n",
        "Translate one language into another language (English to French)"
      ]
    },
    {
      "cell_type": "code",
      "metadata": {
        "id": "1QKejmIPYEGr"
      },
      "source": [
        "import numpy as np \n",
        "from tensorflow.keras.models import Model\n",
        "from tensorflow.keras.layers import Input , LSTM , Dense\n",
        "\n",
        "batch_size = 64 # batch size for training\n",
        "epochs = 100 \n",
        "latent_dims = 256 # latent dimensionality of the encoding space means - Feature dimension\n",
        "num_samples = 10000 # number of samples to train on\n",
        "\n",
        "data_path = \"/content/drive/MyDrive/My Data/fra.txt\""
      ],
      "execution_count": 1,
      "outputs": []
    },
    {
      "cell_type": "markdown",
      "metadata": {
        "id": "moOLZ3bRYdss"
      },
      "source": [
        "Reading our input and target data and also read input character (@,$,) and target character"
      ]
    },
    {
      "cell_type": "code",
      "metadata": {
        "id": "NJLbaEH2Yb4W"
      },
      "source": [
        "# Vectorize the data\n",
        "input_texts = []\n",
        "target_texts = []\n",
        "input_characters = set()\n",
        "target_characters = set()\n",
        "\n",
        "with open(data_path, \"r\", encoding=\"utf-8\") as f:\n",
        "    lines = f.read().split(\"\\n\")\n",
        "\n",
        "for line in lines[: min(num_samples, len(lines) - 1)]:\n",
        "    input_text , target_text, _ = line.split(\"\\t\")\n",
        "    target_text = \"\\t\" + target_text + \"\\n\"\n",
        "    input_texts.append(input_text)\n",
        "    target_texts.append(target_text)\n",
        "\n",
        "    for char in input_text:\n",
        "        if char not in input_characters:\n",
        "            input_characters.add(char)\n",
        "    for char in target_text:\n",
        "        if char not in target_characters:\n",
        "            target_characters.add(char)"
      ],
      "execution_count": 2,
      "outputs": []
    },
    {
      "cell_type": "code",
      "metadata": {
        "colab": {
          "base_uri": "https://localhost:8080/"
        },
        "id": "tR3zwmRcYizu",
        "outputId": "1ccf3f27-c6ce-4325-92c3-23cd7e57c86f"
      },
      "source": [
        "input_characters"
      ],
      "execution_count": 3,
      "outputs": [
        {
          "output_type": "execute_result",
          "data": {
            "text/plain": [
              "{' ',\n",
              " '!',\n",
              " '\"',\n",
              " '$',\n",
              " '%',\n",
              " '&',\n",
              " \"'\",\n",
              " ',',\n",
              " '-',\n",
              " '.',\n",
              " '0',\n",
              " '1',\n",
              " '2',\n",
              " '3',\n",
              " '5',\n",
              " '7',\n",
              " '8',\n",
              " '9',\n",
              " ':',\n",
              " '?',\n",
              " 'A',\n",
              " 'B',\n",
              " 'C',\n",
              " 'D',\n",
              " 'E',\n",
              " 'F',\n",
              " 'G',\n",
              " 'H',\n",
              " 'I',\n",
              " 'J',\n",
              " 'K',\n",
              " 'L',\n",
              " 'M',\n",
              " 'N',\n",
              " 'O',\n",
              " 'P',\n",
              " 'Q',\n",
              " 'R',\n",
              " 'S',\n",
              " 'T',\n",
              " 'U',\n",
              " 'V',\n",
              " 'W',\n",
              " 'Y',\n",
              " 'a',\n",
              " 'b',\n",
              " 'c',\n",
              " 'd',\n",
              " 'e',\n",
              " 'f',\n",
              " 'g',\n",
              " 'h',\n",
              " 'i',\n",
              " 'j',\n",
              " 'k',\n",
              " 'l',\n",
              " 'm',\n",
              " 'n',\n",
              " 'o',\n",
              " 'p',\n",
              " 'q',\n",
              " 'r',\n",
              " 's',\n",
              " 't',\n",
              " 'u',\n",
              " 'v',\n",
              " 'w',\n",
              " 'x',\n",
              " 'y',\n",
              " 'z',\n",
              " 'é'}"
            ]
          },
          "metadata": {
            "tags": []
          },
          "execution_count": 3
        }
      ]
    },
    {
      "cell_type": "code",
      "metadata": {
        "id": "ZfuK-lRcYk8j"
      },
      "source": [
        "input_characters = sorted(list(input_characters))\n",
        "target_characters = sorted(list(target_characters))\n",
        "num_encoder_tokens = len(input_characters)\n",
        "num_decoder_tokens = len(target_characters)\n",
        "max_encoder_seq_length = max([len(txt) for txt in input_texts])\n",
        "max_decoder_seq_length = max([len(txt) for txt in target_texts])"
      ],
      "execution_count": 4,
      "outputs": []
    },
    {
      "cell_type": "code",
      "metadata": {
        "colab": {
          "base_uri": "https://localhost:8080/"
        },
        "id": "TuanWg0CYnY_",
        "outputId": "dbc48d44-a127-4d14-e062-e48c809d5638"
      },
      "source": [
        "print(\"Number of samples:\", len(input_texts))\n",
        "print(\"Number of unique input tokens:\", num_encoder_tokens)\n",
        "print(\"Number of unique output tokens:\", num_decoder_tokens)\n",
        "print(\"Max sequence length for inputs:\", max_encoder_seq_length)\n",
        "print(\"Max sequence length for outputs:\", max_decoder_seq_length)"
      ],
      "execution_count": 5,
      "outputs": [
        {
          "output_type": "stream",
          "text": [
            "Number of samples: 10000\n",
            "Number of unique input tokens: 71\n",
            "Number of unique output tokens: 93\n",
            "Max sequence length for inputs: 15\n",
            "Max sequence length for outputs: 59\n"
          ],
          "name": "stdout"
        }
      ]
    },
    {
      "cell_type": "code",
      "metadata": {
        "id": "CDZMR2JiYo09"
      },
      "source": [
        "# Assign tokens ( 0 ,1 , 2 so on) to each and every input and target characters\n",
        "\n",
        "input_token_index = dict([(char , i) for i , char in enumerate(input_characters)])\n",
        "target_token_index = dict([(char, i) for i, char in enumerate(target_characters)])"
      ],
      "execution_count": 6,
      "outputs": []
    },
    {
      "cell_type": "code",
      "metadata": {
        "colab": {
          "base_uri": "https://localhost:8080/"
        },
        "id": "gRkBLLReYr2S",
        "outputId": "921eda48-c981-49b9-ce74-15f43c64fe9f"
      },
      "source": [
        "input_token_index"
      ],
      "execution_count": 7,
      "outputs": [
        {
          "output_type": "execute_result",
          "data": {
            "text/plain": [
              "{' ': 0,\n",
              " '!': 1,\n",
              " '\"': 2,\n",
              " '$': 3,\n",
              " '%': 4,\n",
              " '&': 5,\n",
              " \"'\": 6,\n",
              " ',': 7,\n",
              " '-': 8,\n",
              " '.': 9,\n",
              " '0': 10,\n",
              " '1': 11,\n",
              " '2': 12,\n",
              " '3': 13,\n",
              " '5': 14,\n",
              " '7': 15,\n",
              " '8': 16,\n",
              " '9': 17,\n",
              " ':': 18,\n",
              " '?': 19,\n",
              " 'A': 20,\n",
              " 'B': 21,\n",
              " 'C': 22,\n",
              " 'D': 23,\n",
              " 'E': 24,\n",
              " 'F': 25,\n",
              " 'G': 26,\n",
              " 'H': 27,\n",
              " 'I': 28,\n",
              " 'J': 29,\n",
              " 'K': 30,\n",
              " 'L': 31,\n",
              " 'M': 32,\n",
              " 'N': 33,\n",
              " 'O': 34,\n",
              " 'P': 35,\n",
              " 'Q': 36,\n",
              " 'R': 37,\n",
              " 'S': 38,\n",
              " 'T': 39,\n",
              " 'U': 40,\n",
              " 'V': 41,\n",
              " 'W': 42,\n",
              " 'Y': 43,\n",
              " 'a': 44,\n",
              " 'b': 45,\n",
              " 'c': 46,\n",
              " 'd': 47,\n",
              " 'e': 48,\n",
              " 'f': 49,\n",
              " 'g': 50,\n",
              " 'h': 51,\n",
              " 'i': 52,\n",
              " 'j': 53,\n",
              " 'k': 54,\n",
              " 'l': 55,\n",
              " 'm': 56,\n",
              " 'n': 57,\n",
              " 'o': 58,\n",
              " 'p': 59,\n",
              " 'q': 60,\n",
              " 'r': 61,\n",
              " 's': 62,\n",
              " 't': 63,\n",
              " 'u': 64,\n",
              " 'v': 65,\n",
              " 'w': 66,\n",
              " 'x': 67,\n",
              " 'y': 68,\n",
              " 'z': 69,\n",
              " 'é': 70}"
            ]
          },
          "metadata": {
            "tags": []
          },
          "execution_count": 7
        }
      ]
    },
    {
      "cell_type": "code",
      "metadata": {
        "colab": {
          "base_uri": "https://localhost:8080/"
        },
        "id": "T99fZ09TYtf_",
        "outputId": "fe1ea9b6-c99b-4060-a9fe-9cad3143c442"
      },
      "source": [
        "target_token_index"
      ],
      "execution_count": 8,
      "outputs": [
        {
          "output_type": "execute_result",
          "data": {
            "text/plain": [
              "{'\\t': 0,\n",
              " '\\n': 1,\n",
              " ' ': 2,\n",
              " '!': 3,\n",
              " '$': 4,\n",
              " '%': 5,\n",
              " '&': 6,\n",
              " \"'\": 7,\n",
              " '(': 8,\n",
              " ')': 9,\n",
              " ',': 10,\n",
              " '-': 11,\n",
              " '.': 12,\n",
              " '0': 13,\n",
              " '1': 14,\n",
              " '2': 15,\n",
              " '3': 16,\n",
              " '5': 17,\n",
              " '8': 18,\n",
              " '9': 19,\n",
              " ':': 20,\n",
              " '?': 21,\n",
              " 'A': 22,\n",
              " 'B': 23,\n",
              " 'C': 24,\n",
              " 'D': 25,\n",
              " 'E': 26,\n",
              " 'F': 27,\n",
              " 'G': 28,\n",
              " 'H': 29,\n",
              " 'I': 30,\n",
              " 'J': 31,\n",
              " 'K': 32,\n",
              " 'L': 33,\n",
              " 'M': 34,\n",
              " 'N': 35,\n",
              " 'O': 36,\n",
              " 'P': 37,\n",
              " 'Q': 38,\n",
              " 'R': 39,\n",
              " 'S': 40,\n",
              " 'T': 41,\n",
              " 'U': 42,\n",
              " 'V': 43,\n",
              " 'Y': 44,\n",
              " 'a': 45,\n",
              " 'b': 46,\n",
              " 'c': 47,\n",
              " 'd': 48,\n",
              " 'e': 49,\n",
              " 'f': 50,\n",
              " 'g': 51,\n",
              " 'h': 52,\n",
              " 'i': 53,\n",
              " 'j': 54,\n",
              " 'k': 55,\n",
              " 'l': 56,\n",
              " 'm': 57,\n",
              " 'n': 58,\n",
              " 'o': 59,\n",
              " 'p': 60,\n",
              " 'q': 61,\n",
              " 'r': 62,\n",
              " 's': 63,\n",
              " 't': 64,\n",
              " 'u': 65,\n",
              " 'v': 66,\n",
              " 'w': 67,\n",
              " 'x': 68,\n",
              " 'y': 69,\n",
              " 'z': 70,\n",
              " '\\xa0': 71,\n",
              " '«': 72,\n",
              " '»': 73,\n",
              " 'À': 74,\n",
              " 'Ç': 75,\n",
              " 'É': 76,\n",
              " 'Ê': 77,\n",
              " 'à': 78,\n",
              " 'â': 79,\n",
              " 'ç': 80,\n",
              " 'è': 81,\n",
              " 'é': 82,\n",
              " 'ê': 83,\n",
              " 'î': 84,\n",
              " 'ï': 85,\n",
              " 'ô': 86,\n",
              " 'ù': 87,\n",
              " 'û': 88,\n",
              " 'œ': 89,\n",
              " '\\u2009': 90,\n",
              " '’': 91,\n",
              " '\\u202f': 92}"
            ]
          },
          "metadata": {
            "tags": []
          },
          "execution_count": 8
        }
      ]
    },
    {
      "cell_type": "markdown",
      "metadata": {
        "id": "HV8oSaXqY0HN"
      },
      "source": [
        "## One Hot Representation"
      ]
    },
    {
      "cell_type": "code",
      "metadata": {
        "id": "a-M6tqbxYx3V"
      },
      "source": [
        "encoder_input_data = np.zeros(\n",
        "    (len(input_texts) , max_encoder_seq_length , num_encoder_tokens) , dtype=\"float32\"\n",
        ")\n",
        "\n",
        "decoder_input_data = np.zeros(\n",
        "    (len(input_texts), max_decoder_seq_length, num_decoder_tokens), dtype=\"float32\"\n",
        ")\n",
        "\n",
        "decoder_target_data = np.zeros(\n",
        "    (len(input_texts), max_decoder_seq_length, num_decoder_tokens), dtype=\"float32\"\n",
        ")"
      ],
      "execution_count": 9,
      "outputs": []
    },
    {
      "cell_type": "code",
      "metadata": {
        "id": "RMC6FgpxY2wL"
      },
      "source": [
        "for i, (input_text, target_text) in enumerate(zip(input_texts, target_texts)):\n",
        "    for t, char in enumerate(input_text):\n",
        "        encoder_input_data[i, t, input_token_index[char]] = 1.0\n",
        "    encoder_input_data[i, t + 1 :, input_token_index[\" \"]] = 1.0\n",
        "\n",
        "    for t, char in enumerate(target_text):\n",
        "        # decoder_target_data is ahead of decoder_input_data by one timestep\n",
        "        decoder_input_data[i, t, target_token_index[char]] = 1.0\n",
        "\n",
        "        if t > 0:\n",
        "            # decoder_target_data will be ahead by one timestep\n",
        "            # and will not include the start character.\n",
        "            decoder_target_data[i, t - 1, target_token_index[char]] = 1.0\n",
        "            \n",
        "    decoder_input_data[i, t + 1 :, target_token_index[\" \"]] = 1.0\n",
        "    decoder_target_data[i, t:, target_token_index[\" \"]] = 1.0"
      ],
      "execution_count": 11,
      "outputs": []
    },
    {
      "cell_type": "code",
      "metadata": {
        "colab": {
          "base_uri": "https://localhost:8080/"
        },
        "id": "drFuwLcqY5Si",
        "outputId": "d5064ad5-7635-4ecf-b348-9d5c91c9e534"
      },
      "source": [
        "encoder_input_data.shape"
      ],
      "execution_count": 12,
      "outputs": [
        {
          "output_type": "execute_result",
          "data": {
            "text/plain": [
              "(10000, 15, 71)"
            ]
          },
          "metadata": {
            "tags": []
          },
          "execution_count": 12
        }
      ]
    },
    {
      "cell_type": "markdown",
      "metadata": {
        "id": "yiYXdxO7ZDTT"
      },
      "source": [
        "## Build a model"
      ]
    },
    {
      "cell_type": "code",
      "metadata": {
        "id": "LdGWOZEpZBzG"
      },
      "source": [
        "# Define an input sequence and process it.\n",
        "encoder_inputs = Input(shape=(None , num_encoder_tokens))\n",
        "encoder = LSTM(latent_dims , return_state = True)\n",
        "encoder_outputs , state_h , state_c = encoder(encoder_inputs)\n",
        "\n",
        "# We discard `encoder_outputs` and only keep the states.\n",
        "encoder_states = [state_h , state_c]"
      ],
      "execution_count": 13,
      "outputs": []
    },
    {
      "cell_type": "code",
      "metadata": {
        "id": "s-q5ku26ZFkV"
      },
      "source": [
        "# Set up the decoder, using `encoder_states` as initial state.\n",
        "decoder_inputs = Input(shape=(None , num_decoder_tokens))\n",
        "\n",
        "# We set up our decoder to return full output sequences,\n",
        "# and to return internal states as well. We don't use the\n",
        "# return states in the training model, but we will use them in inference.\n",
        "decoder_lstm = LSTM(latent_dims , return_sequences = True , return_state = True)\n",
        "decoder_outputs , _, _ = decoder_lstm(decoder_inputs , initial_state=encoder_states)\n",
        "decoder_dense = Dense(num_decoder_tokens , activation=\"softmax\")\n",
        "decoder_outputs = decoder_dense(decoder_outputs)"
      ],
      "execution_count": 14,
      "outputs": []
    },
    {
      "cell_type": "code",
      "metadata": {
        "id": "ZGYqquBaZHth"
      },
      "source": [
        "# Define the model that will turn\n",
        "# `encoder_input_data` & `decoder_input_data` into `decoder_target_data`\n",
        "\n",
        "model = Model([encoder_inputs , decoder_inputs] , decoder_outputs)"
      ],
      "execution_count": 15,
      "outputs": []
    },
    {
      "cell_type": "markdown",
      "metadata": {
        "id": "_pqce4iUZMJF"
      },
      "source": [
        "## Train a Model"
      ]
    },
    {
      "cell_type": "code",
      "metadata": {
        "id": "RZZSV1Y1ZJzp"
      },
      "source": [
        "model.compile(optimizer=\"rmsprop\" , loss=\"categorical_crossentropy\" , metrics=[\"accuracy\"])"
      ],
      "execution_count": 16,
      "outputs": []
    },
    {
      "cell_type": "code",
      "metadata": {
        "colab": {
          "base_uri": "https://localhost:8080/"
        },
        "id": "nRvDimHZZOD7",
        "outputId": "13cf1216-755d-4fa6-b6e6-0f187f419731"
      },
      "source": [
        "model.fit(\n",
        "    [encoder_input_data , decoder_input_data],\n",
        "    decoder_target_data,\n",
        "    batch_size = batch_size,\n",
        "    epochs=epochs,\n",
        "    validation_split=0.2\n",
        ")"
      ],
      "execution_count": 17,
      "outputs": [
        {
          "output_type": "stream",
          "text": [
            "Epoch 1/100\n",
            "125/125 [==============================] - 36s 20ms/step - loss: 1.5234 - accuracy: 0.7028 - val_loss: 1.0430 - val_accuracy: 0.7097\n",
            "Epoch 2/100\n",
            "125/125 [==============================] - 1s 11ms/step - loss: 0.8865 - accuracy: 0.7602 - val_loss: 0.8396 - val_accuracy: 0.7716\n",
            "Epoch 3/100\n",
            "125/125 [==============================] - 1s 12ms/step - loss: 0.7141 - accuracy: 0.8063 - val_loss: 0.7011 - val_accuracy: 0.7994\n",
            "Epoch 4/100\n",
            "125/125 [==============================] - 1s 12ms/step - loss: 0.5935 - accuracy: 0.8283 - val_loss: 0.6426 - val_accuracy: 0.8127\n",
            "Epoch 5/100\n",
            "125/125 [==============================] - 2s 12ms/step - loss: 0.5382 - accuracy: 0.8431 - val_loss: 0.5938 - val_accuracy: 0.8281\n",
            "Epoch 6/100\n",
            "125/125 [==============================] - 2s 12ms/step - loss: 0.5033 - accuracy: 0.8528 - val_loss: 0.5614 - val_accuracy: 0.8362\n",
            "Epoch 7/100\n",
            "125/125 [==============================] - 1s 12ms/step - loss: 0.4672 - accuracy: 0.8626 - val_loss: 0.5423 - val_accuracy: 0.8408\n",
            "Epoch 8/100\n",
            "125/125 [==============================] - 1s 12ms/step - loss: 0.4483 - accuracy: 0.8675 - val_loss: 0.5224 - val_accuracy: 0.8471\n",
            "Epoch 9/100\n",
            "125/125 [==============================] - 1s 12ms/step - loss: 0.4222 - accuracy: 0.8738 - val_loss: 0.5125 - val_accuracy: 0.8499\n",
            "Epoch 10/100\n",
            "125/125 [==============================] - 1s 12ms/step - loss: 0.4055 - accuracy: 0.8785 - val_loss: 0.4966 - val_accuracy: 0.8551\n",
            "Epoch 11/100\n",
            "125/125 [==============================] - 1s 12ms/step - loss: 0.3881 - accuracy: 0.8840 - val_loss: 0.4877 - val_accuracy: 0.8568\n",
            "Epoch 12/100\n",
            "125/125 [==============================] - 2s 12ms/step - loss: 0.3726 - accuracy: 0.8879 - val_loss: 0.4808 - val_accuracy: 0.8595\n",
            "Epoch 13/100\n",
            "125/125 [==============================] - 2s 12ms/step - loss: 0.3553 - accuracy: 0.8928 - val_loss: 0.4759 - val_accuracy: 0.8601\n",
            "Epoch 14/100\n",
            "125/125 [==============================] - 2s 12ms/step - loss: 0.3408 - accuracy: 0.8975 - val_loss: 0.4664 - val_accuracy: 0.8642\n",
            "Epoch 15/100\n",
            "125/125 [==============================] - 1s 12ms/step - loss: 0.3281 - accuracy: 0.9011 - val_loss: 0.4600 - val_accuracy: 0.8668\n",
            "Epoch 16/100\n",
            "125/125 [==============================] - 1s 12ms/step - loss: 0.3147 - accuracy: 0.9043 - val_loss: 0.4562 - val_accuracy: 0.8676\n",
            "Epoch 17/100\n",
            "125/125 [==============================] - 1s 12ms/step - loss: 0.3033 - accuracy: 0.9084 - val_loss: 0.4512 - val_accuracy: 0.8691\n",
            "Epoch 18/100\n",
            "125/125 [==============================] - 1s 12ms/step - loss: 0.2918 - accuracy: 0.9119 - val_loss: 0.4500 - val_accuracy: 0.8702\n",
            "Epoch 19/100\n",
            "125/125 [==============================] - 1s 12ms/step - loss: 0.2791 - accuracy: 0.9154 - val_loss: 0.4470 - val_accuracy: 0.8716\n",
            "Epoch 20/100\n",
            "125/125 [==============================] - 2s 12ms/step - loss: 0.2671 - accuracy: 0.9191 - val_loss: 0.4455 - val_accuracy: 0.8728\n",
            "Epoch 21/100\n",
            "125/125 [==============================] - 1s 12ms/step - loss: 0.2580 - accuracy: 0.9219 - val_loss: 0.4483 - val_accuracy: 0.8720\n",
            "Epoch 22/100\n",
            "125/125 [==============================] - 2s 12ms/step - loss: 0.2537 - accuracy: 0.9229 - val_loss: 0.4488 - val_accuracy: 0.8734\n",
            "Epoch 23/100\n",
            "125/125 [==============================] - 1s 12ms/step - loss: 0.2416 - accuracy: 0.9270 - val_loss: 0.4510 - val_accuracy: 0.8728\n",
            "Epoch 24/100\n",
            "125/125 [==============================] - 2s 12ms/step - loss: 0.2357 - accuracy: 0.9284 - val_loss: 0.4523 - val_accuracy: 0.8729\n",
            "Epoch 25/100\n",
            "125/125 [==============================] - 1s 12ms/step - loss: 0.2271 - accuracy: 0.9312 - val_loss: 0.4519 - val_accuracy: 0.8741\n",
            "Epoch 26/100\n",
            "125/125 [==============================] - 2s 12ms/step - loss: 0.2172 - accuracy: 0.9338 - val_loss: 0.4535 - val_accuracy: 0.8731\n",
            "Epoch 27/100\n",
            "125/125 [==============================] - 2s 12ms/step - loss: 0.2131 - accuracy: 0.9355 - val_loss: 0.4579 - val_accuracy: 0.8744\n",
            "Epoch 28/100\n",
            "125/125 [==============================] - 2s 12ms/step - loss: 0.2045 - accuracy: 0.9380 - val_loss: 0.4597 - val_accuracy: 0.8743\n",
            "Epoch 29/100\n",
            "125/125 [==============================] - 1s 12ms/step - loss: 0.1984 - accuracy: 0.9401 - val_loss: 0.4617 - val_accuracy: 0.8740\n",
            "Epoch 30/100\n",
            "125/125 [==============================] - 1s 12ms/step - loss: 0.1913 - accuracy: 0.9420 - val_loss: 0.4655 - val_accuracy: 0.8749\n",
            "Epoch 31/100\n",
            "125/125 [==============================] - 2s 12ms/step - loss: 0.1838 - accuracy: 0.9443 - val_loss: 0.4679 - val_accuracy: 0.8746\n",
            "Epoch 32/100\n",
            "125/125 [==============================] - 2s 12ms/step - loss: 0.1791 - accuracy: 0.9454 - val_loss: 0.4731 - val_accuracy: 0.8750\n",
            "Epoch 33/100\n",
            "125/125 [==============================] - 2s 12ms/step - loss: 0.1731 - accuracy: 0.9474 - val_loss: 0.4796 - val_accuracy: 0.8754\n",
            "Epoch 34/100\n",
            "125/125 [==============================] - 2s 12ms/step - loss: 0.1682 - accuracy: 0.9486 - val_loss: 0.4866 - val_accuracy: 0.8742\n",
            "Epoch 35/100\n",
            "125/125 [==============================] - 2s 12ms/step - loss: 0.1653 - accuracy: 0.9497 - val_loss: 0.4906 - val_accuracy: 0.8744\n",
            "Epoch 36/100\n",
            "125/125 [==============================] - 2s 12ms/step - loss: 0.1583 - accuracy: 0.9518 - val_loss: 0.4883 - val_accuracy: 0.8754\n",
            "Epoch 37/100\n",
            "125/125 [==============================] - 2s 12ms/step - loss: 0.1544 - accuracy: 0.9535 - val_loss: 0.4958 - val_accuracy: 0.8749\n",
            "Epoch 38/100\n",
            "125/125 [==============================] - 2s 12ms/step - loss: 0.1489 - accuracy: 0.9549 - val_loss: 0.4990 - val_accuracy: 0.8754\n",
            "Epoch 39/100\n",
            "125/125 [==============================] - 1s 12ms/step - loss: 0.1446 - accuracy: 0.9558 - val_loss: 0.5028 - val_accuracy: 0.8757\n",
            "Epoch 40/100\n",
            "125/125 [==============================] - 2s 12ms/step - loss: 0.1410 - accuracy: 0.9572 - val_loss: 0.5095 - val_accuracy: 0.8752\n",
            "Epoch 41/100\n",
            "125/125 [==============================] - 2s 12ms/step - loss: 0.1376 - accuracy: 0.9577 - val_loss: 0.5100 - val_accuracy: 0.8752\n",
            "Epoch 42/100\n",
            "125/125 [==============================] - 2s 12ms/step - loss: 0.1326 - accuracy: 0.9598 - val_loss: 0.5116 - val_accuracy: 0.8762\n",
            "Epoch 43/100\n",
            "125/125 [==============================] - 2s 12ms/step - loss: 0.1296 - accuracy: 0.9602 - val_loss: 0.5246 - val_accuracy: 0.8743\n",
            "Epoch 44/100\n",
            "125/125 [==============================] - 2s 12ms/step - loss: 0.1257 - accuracy: 0.9615 - val_loss: 0.5250 - val_accuracy: 0.8746\n",
            "Epoch 45/100\n",
            "125/125 [==============================] - 2s 12ms/step - loss: 0.1213 - accuracy: 0.9625 - val_loss: 0.5278 - val_accuracy: 0.8749\n",
            "Epoch 46/100\n",
            "125/125 [==============================] - 2s 12ms/step - loss: 0.1190 - accuracy: 0.9632 - val_loss: 0.5307 - val_accuracy: 0.8756\n",
            "Epoch 47/100\n",
            "125/125 [==============================] - 2s 12ms/step - loss: 0.1167 - accuracy: 0.9639 - val_loss: 0.5380 - val_accuracy: 0.8744\n",
            "Epoch 48/100\n",
            "125/125 [==============================] - 2s 12ms/step - loss: 0.1135 - accuracy: 0.9649 - val_loss: 0.5408 - val_accuracy: 0.8742\n",
            "Epoch 49/100\n",
            "125/125 [==============================] - 1s 12ms/step - loss: 0.1121 - accuracy: 0.9654 - val_loss: 0.5449 - val_accuracy: 0.8753\n",
            "Epoch 50/100\n",
            "125/125 [==============================] - 2s 12ms/step - loss: 0.1081 - accuracy: 0.9667 - val_loss: 0.5520 - val_accuracy: 0.8744\n",
            "Epoch 51/100\n",
            "125/125 [==============================] - 2s 12ms/step - loss: 0.1050 - accuracy: 0.9677 - val_loss: 0.5575 - val_accuracy: 0.8751\n",
            "Epoch 52/100\n",
            "125/125 [==============================] - 1s 12ms/step - loss: 0.1025 - accuracy: 0.9682 - val_loss: 0.5579 - val_accuracy: 0.8749\n",
            "Epoch 53/100\n",
            "125/125 [==============================] - 2s 12ms/step - loss: 0.0999 - accuracy: 0.9686 - val_loss: 0.5688 - val_accuracy: 0.8749\n",
            "Epoch 54/100\n",
            "125/125 [==============================] - 2s 12ms/step - loss: 0.0988 - accuracy: 0.9690 - val_loss: 0.5711 - val_accuracy: 0.8738\n",
            "Epoch 55/100\n",
            "125/125 [==============================] - 1s 12ms/step - loss: 0.0965 - accuracy: 0.9696 - val_loss: 0.5739 - val_accuracy: 0.8741\n",
            "Epoch 56/100\n",
            "125/125 [==============================] - 1s 12ms/step - loss: 0.0934 - accuracy: 0.9706 - val_loss: 0.5752 - val_accuracy: 0.8746\n",
            "Epoch 57/100\n",
            "125/125 [==============================] - 2s 12ms/step - loss: 0.0916 - accuracy: 0.9714 - val_loss: 0.5824 - val_accuracy: 0.8748\n",
            "Epoch 58/100\n",
            "125/125 [==============================] - 2s 12ms/step - loss: 0.0897 - accuracy: 0.9719 - val_loss: 0.5871 - val_accuracy: 0.8743\n",
            "Epoch 59/100\n",
            "125/125 [==============================] - 2s 12ms/step - loss: 0.0874 - accuracy: 0.9728 - val_loss: 0.5922 - val_accuracy: 0.8742\n",
            "Epoch 60/100\n",
            "125/125 [==============================] - 1s 12ms/step - loss: 0.0860 - accuracy: 0.9726 - val_loss: 0.5995 - val_accuracy: 0.8741\n",
            "Epoch 61/100\n",
            "125/125 [==============================] - 1s 12ms/step - loss: 0.0833 - accuracy: 0.9737 - val_loss: 0.6057 - val_accuracy: 0.8736\n",
            "Epoch 62/100\n",
            "125/125 [==============================] - 2s 12ms/step - loss: 0.0812 - accuracy: 0.9741 - val_loss: 0.6072 - val_accuracy: 0.8739\n",
            "Epoch 63/100\n",
            "125/125 [==============================] - 2s 12ms/step - loss: 0.0802 - accuracy: 0.9743 - val_loss: 0.6084 - val_accuracy: 0.8742\n",
            "Epoch 64/100\n",
            "125/125 [==============================] - 2s 12ms/step - loss: 0.0786 - accuracy: 0.9747 - val_loss: 0.6180 - val_accuracy: 0.8727\n",
            "Epoch 65/100\n",
            "125/125 [==============================] - 2s 12ms/step - loss: 0.0770 - accuracy: 0.9754 - val_loss: 0.6215 - val_accuracy: 0.8739\n",
            "Epoch 66/100\n",
            "125/125 [==============================] - 2s 12ms/step - loss: 0.0756 - accuracy: 0.9757 - val_loss: 0.6217 - val_accuracy: 0.8730\n",
            "Epoch 67/100\n",
            "125/125 [==============================] - 1s 12ms/step - loss: 0.0742 - accuracy: 0.9763 - val_loss: 0.6301 - val_accuracy: 0.8724\n",
            "Epoch 68/100\n",
            "125/125 [==============================] - 1s 12ms/step - loss: 0.0717 - accuracy: 0.9769 - val_loss: 0.6286 - val_accuracy: 0.8731\n",
            "Epoch 69/100\n",
            "125/125 [==============================] - 1s 12ms/step - loss: 0.0713 - accuracy: 0.9769 - val_loss: 0.6360 - val_accuracy: 0.8737\n",
            "Epoch 70/100\n",
            "125/125 [==============================] - 2s 12ms/step - loss: 0.0701 - accuracy: 0.9773 - val_loss: 0.6457 - val_accuracy: 0.8724\n",
            "Epoch 71/100\n",
            "125/125 [==============================] - 1s 12ms/step - loss: 0.0680 - accuracy: 0.9780 - val_loss: 0.6489 - val_accuracy: 0.8729\n",
            "Epoch 72/100\n",
            "125/125 [==============================] - 2s 12ms/step - loss: 0.0665 - accuracy: 0.9780 - val_loss: 0.6535 - val_accuracy: 0.8725\n",
            "Epoch 73/100\n",
            "125/125 [==============================] - 2s 12ms/step - loss: 0.0657 - accuracy: 0.9787 - val_loss: 0.6524 - val_accuracy: 0.8721\n",
            "Epoch 74/100\n",
            "125/125 [==============================] - 2s 12ms/step - loss: 0.0637 - accuracy: 0.9792 - val_loss: 0.6607 - val_accuracy: 0.8722\n",
            "Epoch 75/100\n",
            "125/125 [==============================] - 1s 12ms/step - loss: 0.0632 - accuracy: 0.9794 - val_loss: 0.6622 - val_accuracy: 0.8726\n",
            "Epoch 76/100\n",
            "125/125 [==============================] - 2s 12ms/step - loss: 0.0626 - accuracy: 0.9794 - val_loss: 0.6677 - val_accuracy: 0.8729\n",
            "Epoch 77/100\n",
            "125/125 [==============================] - 2s 12ms/step - loss: 0.0608 - accuracy: 0.9800 - val_loss: 0.6740 - val_accuracy: 0.8722\n",
            "Epoch 78/100\n",
            "125/125 [==============================] - 2s 12ms/step - loss: 0.0602 - accuracy: 0.9803 - val_loss: 0.6779 - val_accuracy: 0.8719\n",
            "Epoch 79/100\n",
            "125/125 [==============================] - 2s 12ms/step - loss: 0.0586 - accuracy: 0.9807 - val_loss: 0.6842 - val_accuracy: 0.8714\n",
            "Epoch 80/100\n",
            "125/125 [==============================] - 2s 12ms/step - loss: 0.0581 - accuracy: 0.9805 - val_loss: 0.6807 - val_accuracy: 0.8715\n",
            "Epoch 81/100\n",
            "125/125 [==============================] - 2s 12ms/step - loss: 0.0567 - accuracy: 0.9811 - val_loss: 0.6836 - val_accuracy: 0.8715\n",
            "Epoch 82/100\n",
            "125/125 [==============================] - 2s 12ms/step - loss: 0.0559 - accuracy: 0.9815 - val_loss: 0.6892 - val_accuracy: 0.8720\n",
            "Epoch 83/100\n",
            "125/125 [==============================] - 2s 12ms/step - loss: 0.0557 - accuracy: 0.9814 - val_loss: 0.6969 - val_accuracy: 0.8724\n",
            "Epoch 84/100\n",
            "125/125 [==============================] - 2s 12ms/step - loss: 0.0537 - accuracy: 0.9821 - val_loss: 0.6999 - val_accuracy: 0.8712\n",
            "Epoch 85/100\n",
            "125/125 [==============================] - 2s 12ms/step - loss: 0.0535 - accuracy: 0.9821 - val_loss: 0.7030 - val_accuracy: 0.8718\n",
            "Epoch 86/100\n",
            "125/125 [==============================] - 2s 12ms/step - loss: 0.0528 - accuracy: 0.9822 - val_loss: 0.7079 - val_accuracy: 0.8714\n",
            "Epoch 87/100\n",
            "125/125 [==============================] - 2s 12ms/step - loss: 0.0514 - accuracy: 0.9828 - val_loss: 0.7091 - val_accuracy: 0.8716\n",
            "Epoch 88/100\n",
            "125/125 [==============================] - 2s 13ms/step - loss: 0.0511 - accuracy: 0.9826 - val_loss: 0.7110 - val_accuracy: 0.8718\n",
            "Epoch 89/100\n",
            "125/125 [==============================] - 2s 13ms/step - loss: 0.0502 - accuracy: 0.9829 - val_loss: 0.7168 - val_accuracy: 0.8715\n",
            "Epoch 90/100\n",
            "125/125 [==============================] - 2s 12ms/step - loss: 0.0492 - accuracy: 0.9833 - val_loss: 0.7188 - val_accuracy: 0.8724\n",
            "Epoch 91/100\n",
            "125/125 [==============================] - 2s 12ms/step - loss: 0.0486 - accuracy: 0.9831 - val_loss: 0.7250 - val_accuracy: 0.8719\n",
            "Epoch 92/100\n",
            "125/125 [==============================] - 2s 12ms/step - loss: 0.0478 - accuracy: 0.9835 - val_loss: 0.7242 - val_accuracy: 0.8714\n",
            "Epoch 93/100\n",
            "125/125 [==============================] - 2s 12ms/step - loss: 0.0471 - accuracy: 0.9837 - val_loss: 0.7295 - val_accuracy: 0.8713\n",
            "Epoch 94/100\n",
            "125/125 [==============================] - 2s 12ms/step - loss: 0.0470 - accuracy: 0.9840 - val_loss: 0.7364 - val_accuracy: 0.8714\n",
            "Epoch 95/100\n",
            "125/125 [==============================] - 2s 12ms/step - loss: 0.0462 - accuracy: 0.9840 - val_loss: 0.7445 - val_accuracy: 0.8707\n",
            "Epoch 96/100\n",
            "125/125 [==============================] - 2s 13ms/step - loss: 0.0453 - accuracy: 0.9842 - val_loss: 0.7432 - val_accuracy: 0.8713\n",
            "Epoch 97/100\n",
            "125/125 [==============================] - 2s 12ms/step - loss: 0.0446 - accuracy: 0.9846 - val_loss: 0.7442 - val_accuracy: 0.8716\n",
            "Epoch 98/100\n",
            "125/125 [==============================] - 2s 12ms/step - loss: 0.0444 - accuracy: 0.9846 - val_loss: 0.7454 - val_accuracy: 0.8721\n",
            "Epoch 99/100\n",
            "125/125 [==============================] - 1s 12ms/step - loss: 0.0428 - accuracy: 0.9850 - val_loss: 0.7449 - val_accuracy: 0.8714\n",
            "Epoch 100/100\n",
            "125/125 [==============================] - 2s 12ms/step - loss: 0.0427 - accuracy: 0.9852 - val_loss: 0.7511 - val_accuracy: 0.8703\n"
          ],
          "name": "stdout"
        },
        {
          "output_type": "execute_result",
          "data": {
            "text/plain": [
              "<tensorflow.python.keras.callbacks.History at 0x7fb6d80c40d0>"
            ]
          },
          "metadata": {
            "tags": []
          },
          "execution_count": 17
        }
      ]
    },
    {
      "cell_type": "code",
      "metadata": {
        "colab": {
          "base_uri": "https://localhost:8080/"
        },
        "id": "ZKsYDcsnZQAf",
        "outputId": "268e66e7-1660-44bf-a94f-cfbb022316b5"
      },
      "source": [
        "# Save a model for Sampling and Prediction\n",
        "model.save(\"s2s\")"
      ],
      "execution_count": 18,
      "outputs": [
        {
          "output_type": "stream",
          "text": [
            "WARNING:absl:Found untraced functions such as lstm_cell_layer_call_and_return_conditional_losses, lstm_cell_layer_call_fn, lstm_cell_1_layer_call_and_return_conditional_losses, lstm_cell_1_layer_call_fn, lstm_cell_layer_call_fn while saving (showing 5 of 10). These functions will not be directly callable after loading.\n",
            "WARNING:absl:Found untraced functions such as lstm_cell_layer_call_and_return_conditional_losses, lstm_cell_layer_call_fn, lstm_cell_1_layer_call_and_return_conditional_losses, lstm_cell_1_layer_call_fn, lstm_cell_layer_call_fn while saving (showing 5 of 10). These functions will not be directly callable after loading.\n"
          ],
          "name": "stderr"
        },
        {
          "output_type": "stream",
          "text": [
            "INFO:tensorflow:Assets written to: s2s/assets\n"
          ],
          "name": "stdout"
        },
        {
          "output_type": "stream",
          "text": [
            "INFO:tensorflow:Assets written to: s2s/assets\n"
          ],
          "name": "stderr"
        }
      ]
    },
    {
      "cell_type": "markdown",
      "metadata": {
        "id": "1yqIz4_ndw0M"
      },
      "source": [
        "## Run inference (sampling)\n",
        " - encode input and retrieve initial decoder state\n",
        " - run one step of decoder with this initial state and a \"start of sequence\" token as target. Output will be the next target token.\n",
        " - Repeat with the current target token and current states"
      ]
    },
    {
      "cell_type": "code",
      "metadata": {
        "id": "mdzrmUS1d2ak"
      },
      "source": [
        "# Define sampling models\n",
        "# Restore the model and construct the encoder and decoder.\n",
        "from tensorflow.keras.models import load_model\n",
        "\n",
        "model = load_model(\"s2s\")"
      ],
      "execution_count": 19,
      "outputs": []
    },
    {
      "cell_type": "code",
      "metadata": {
        "colab": {
          "base_uri": "https://localhost:8080/"
        },
        "id": "kL0-HAMEe4Z4",
        "outputId": "cdba4094-5ecf-4d89-b620-307bd7cac076"
      },
      "source": [
        "encoder_inputs = model.input[0] # input_1\n",
        "encoder_inputs"
      ],
      "execution_count": 20,
      "outputs": [
        {
          "output_type": "execute_result",
          "data": {
            "text/plain": [
              "<KerasTensor: shape=(None, None, 71) dtype=float32 (created by layer 'input_1')>"
            ]
          },
          "metadata": {
            "tags": []
          },
          "execution_count": 20
        }
      ]
    },
    {
      "cell_type": "code",
      "metadata": {
        "id": "FvfqMEx_fH8H"
      },
      "source": [
        "encoder_outputs , state_h_enc , state_c_snc = model.layers[2].output # lstm_1\n",
        "encoder_states = [state_h_enc , state_c_snc]\n",
        "encoder_model = Model(encoder_inputs , encoder_states)"
      ],
      "execution_count": 24,
      "outputs": []
    },
    {
      "cell_type": "code",
      "metadata": {
        "colab": {
          "base_uri": "https://localhost:8080/"
        },
        "id": "L6T7ZHNifxLl",
        "outputId": "7f5a04dd-dd66-49d3-ac0e-f18d741368fd"
      },
      "source": [
        "decoder_inputs = model.inputs[1] # input_2\n",
        "decoder_inputs"
      ],
      "execution_count": 25,
      "outputs": [
        {
          "output_type": "execute_result",
          "data": {
            "text/plain": [
              "<KerasTensor: shape=(None, None, 93) dtype=float32 (created by layer 'input_2')>"
            ]
          },
          "metadata": {
            "tags": []
          },
          "execution_count": 25
        }
      ]
    },
    {
      "cell_type": "code",
      "metadata": {
        "id": "EAhgKvfwf4Db"
      },
      "source": [
        "decoder_state_input_h = Input(shape=(latent_dims) , name=\"input_3\")\n",
        "decoder_state_input_c = Input(shape=(latent_dims) , name=\"input_4\")\n",
        "decoder_states_inputs = [decoder_state_input_h , decoder_state_input_c]\n",
        "decoder_lstm = model.layers[3]\n",
        "decoder_outputs , state_h_dec , state_c_dec = decoder_lstm(\n",
        "    decoder_inputs , initial_state = decoder_states_inputs\n",
        ")"
      ],
      "execution_count": 26,
      "outputs": []
    },
    {
      "cell_type": "code",
      "metadata": {
        "id": "wEsfn7CNgx0d"
      },
      "source": [
        "decoder_states = [state_h_dec , state_c_dec]\n",
        "decoder_dense = model.layers[4]\n",
        "decoder_outputs = decoder_dense(decoder_outputs)"
      ],
      "execution_count": 27,
      "outputs": []
    },
    {
      "cell_type": "code",
      "metadata": {
        "id": "yRObq5AZhDv1"
      },
      "source": [
        "decoder_model = Model(\n",
        "    [decoder_inputs] + decoder_states_inputs , [decoder_outputs] + decoder_states\n",
        ")"
      ],
      "execution_count": 28,
      "outputs": []
    },
    {
      "cell_type": "code",
      "metadata": {
        "colab": {
          "base_uri": "https://localhost:8080/"
        },
        "id": "gzWWWCWchQY2",
        "outputId": "892b8559-8f86-4973-bd81-eabece6a45cc"
      },
      "source": [
        "# Reverse-lookup token index to decode sequences back to\n",
        "# something readable.\n",
        "\n",
        "reverse_input_char_index = dict((i , char) for char , i in input_token_index.items())\n",
        "reverse_target_char_index = dict((i, char) for char, i in target_token_index.items())\n",
        "\n",
        "reverse_input_char_index"
      ],
      "execution_count": 29,
      "outputs": [
        {
          "output_type": "execute_result",
          "data": {
            "text/plain": [
              "{0: ' ',\n",
              " 1: '!',\n",
              " 2: '\"',\n",
              " 3: '$',\n",
              " 4: '%',\n",
              " 5: '&',\n",
              " 6: \"'\",\n",
              " 7: ',',\n",
              " 8: '-',\n",
              " 9: '.',\n",
              " 10: '0',\n",
              " 11: '1',\n",
              " 12: '2',\n",
              " 13: '3',\n",
              " 14: '5',\n",
              " 15: '7',\n",
              " 16: '8',\n",
              " 17: '9',\n",
              " 18: ':',\n",
              " 19: '?',\n",
              " 20: 'A',\n",
              " 21: 'B',\n",
              " 22: 'C',\n",
              " 23: 'D',\n",
              " 24: 'E',\n",
              " 25: 'F',\n",
              " 26: 'G',\n",
              " 27: 'H',\n",
              " 28: 'I',\n",
              " 29: 'J',\n",
              " 30: 'K',\n",
              " 31: 'L',\n",
              " 32: 'M',\n",
              " 33: 'N',\n",
              " 34: 'O',\n",
              " 35: 'P',\n",
              " 36: 'Q',\n",
              " 37: 'R',\n",
              " 38: 'S',\n",
              " 39: 'T',\n",
              " 40: 'U',\n",
              " 41: 'V',\n",
              " 42: 'W',\n",
              " 43: 'Y',\n",
              " 44: 'a',\n",
              " 45: 'b',\n",
              " 46: 'c',\n",
              " 47: 'd',\n",
              " 48: 'e',\n",
              " 49: 'f',\n",
              " 50: 'g',\n",
              " 51: 'h',\n",
              " 52: 'i',\n",
              " 53: 'j',\n",
              " 54: 'k',\n",
              " 55: 'l',\n",
              " 56: 'm',\n",
              " 57: 'n',\n",
              " 58: 'o',\n",
              " 59: 'p',\n",
              " 60: 'q',\n",
              " 61: 'r',\n",
              " 62: 's',\n",
              " 63: 't',\n",
              " 64: 'u',\n",
              " 65: 'v',\n",
              " 66: 'w',\n",
              " 67: 'x',\n",
              " 68: 'y',\n",
              " 69: 'z',\n",
              " 70: 'é'}"
            ]
          },
          "metadata": {
            "tags": []
          },
          "execution_count": 29
        }
      ]
    },
    {
      "cell_type": "code",
      "metadata": {
        "id": "al41vjCvhvfj"
      },
      "source": [
        "def decode_sequence(input_seq):\n",
        "  # Encode the input as state vectors.\n",
        "  states_value = encoder_model.predict(input_seq)\n",
        "\n",
        "  # Generate empty target sequence of length 1.\n",
        "  target_seq = np.zeros((1, 1, num_decoder_tokens))\n",
        "  # Populate the first character of target sequence with the start character.\n",
        "  target_seq[0, 0, target_token_index[\"\\t\"]] = 1.0\n",
        "\n",
        "  # Sampling loop for a batch of sequences\n",
        "  # (to simplify, here we assume a batch of size 1).\n",
        "  stop_condition = False\n",
        "  decoded_sentence = \"\"\n",
        "  while not stop_condition:\n",
        "      output_tokens, h, c = decoder_model.predict([target_seq] + states_value)\n",
        "\n",
        "      # Sample a token\n",
        "      sampled_token_index = np.argmax(output_tokens[0, -1, :])\n",
        "      sampled_char = reverse_target_char_index[sampled_token_index]\n",
        "      decoded_sentence += sampled_char\n",
        "\n",
        "      # Exit condition: either hit max length\n",
        "      # or find stop character.\n",
        "      if sampled_char == \"\\n\" or len(decoded_sentence) > max_decoder_seq_length:\n",
        "          stop_condition = True\n",
        "\n",
        "      # Update the target sequence (of length 1).\n",
        "      target_seq = np.zeros((1, 1, num_decoder_tokens))\n",
        "      target_seq[0, 0, sampled_token_index] = 1.0\n",
        "\n",
        "      # Update states\n",
        "      states_value = [h, c]\n",
        "  return decoded_sentence"
      ],
      "execution_count": 30,
      "outputs": []
    },
    {
      "cell_type": "markdown",
      "metadata": {
        "id": "1vM_YnnvkRh2"
      },
      "source": [
        "You can now generate decoded sentences as such:"
      ]
    },
    {
      "cell_type": "code",
      "metadata": {
        "colab": {
          "base_uri": "https://localhost:8080/"
        },
        "id": "dCqnI-NHkPHb",
        "outputId": "75334bb8-c1f1-4ad3-ffe8-54b2ae6a0fa6"
      },
      "source": [
        "for seq_index in range(20):\n",
        "  # Take one sequence (part of the training set)\n",
        "  # for trying out decoding.\n",
        "  input_seq = encoder_input_data[seq_index : seq_index + 1]\n",
        "  decoded_sentence = decode_sequence(input_seq)\n",
        "  print(\"-\")\n",
        "  print(\"Input Sentence:-\", input_texts[seq_index])\n",
        "  print(\"Decoded Sentence:-\", decoded_sentence)"
      ],
      "execution_count": 31,
      "outputs": [
        {
          "output_type": "stream",
          "text": [
            "-\n",
            "Input Sentence:- Go.\n",
            "Decoded Sentence:- Marche.\n",
            "\n",
            "-\n",
            "Input Sentence:- Go.\n",
            "Decoded Sentence:- Marche.\n",
            "\n",
            "-\n",
            "Input Sentence:- Go.\n",
            "Decoded Sentence:- Marche.\n",
            "\n",
            "-\n",
            "Input Sentence:- Hi.\n",
            "Decoded Sentence:- Salut.\n",
            "\n",
            "-\n",
            "Input Sentence:- Hi.\n",
            "Decoded Sentence:- Salut.\n",
            "\n",
            "-\n",
            "Input Sentence:- Run!\n",
            "Decoded Sentence:- Cours !\n",
            "\n",
            "-\n",
            "Input Sentence:- Run!\n",
            "Decoded Sentence:- Cours !\n",
            "\n",
            "-\n",
            "Input Sentence:- Run!\n",
            "Decoded Sentence:- Cours !\n",
            "\n",
            "-\n",
            "Input Sentence:- Run!\n",
            "Decoded Sentence:- Cours !\n",
            "\n",
            "-\n",
            "Input Sentence:- Run!\n",
            "Decoded Sentence:- Cours !\n",
            "\n",
            "-\n",
            "Input Sentence:- Run!\n",
            "Decoded Sentence:- Cours !\n",
            "\n",
            "-\n",
            "Input Sentence:- Run!\n",
            "Decoded Sentence:- Cours !\n",
            "\n",
            "-\n",
            "Input Sentence:- Run!\n",
            "Decoded Sentence:- Cours !\n",
            "\n",
            "-\n",
            "Input Sentence:- Run.\n",
            "Decoded Sentence:- Cours !\n",
            "\n",
            "-\n",
            "Input Sentence:- Run.\n",
            "Decoded Sentence:- Cours !\n",
            "\n",
            "-\n",
            "Input Sentence:- Run.\n",
            "Decoded Sentence:- Cours !\n",
            "\n",
            "-\n",
            "Input Sentence:- Run.\n",
            "Decoded Sentence:- Cours !\n",
            "\n",
            "-\n",
            "Input Sentence:- Run.\n",
            "Decoded Sentence:- Cours !\n",
            "\n",
            "-\n",
            "Input Sentence:- Run.\n",
            "Decoded Sentence:- Cours !\n",
            "\n",
            "-\n",
            "Input Sentence:- Run.\n",
            "Decoded Sentence:- Cours !\n",
            "\n"
          ],
          "name": "stdout"
        }
      ]
    },
    {
      "cell_type": "code",
      "metadata": {
        "id": "oQJry3nUk7oS"
      },
      "source": [],
      "execution_count": null,
      "outputs": []
    }
  ]
}